{
 "cells": [
  {
   "cell_type": "markdown",
   "metadata": {},
   "source": [
    "# Dynamic Refugee Matching\n",
    "# Demonstration\n",
    "\n",
    "This notebook demonstrates the fuctioning of the mechanism introduced by Andersson, Ehlers and Martinello (2018). All the necessary documentation, requirements and dependecies should be documented in the package. If you have any comment, spot any bug or some documentation is missing, please let us know.\n",
    "\n",
    "This notebook replicates and illustrates the allocation example we provide in the paper (Tables 1 and 2). The purpose of this notebook is to convey the intuition behind our allocation mechanism, and to perform some simple benchmarking against naive allocation rules. Moreover, this notebook is meant to introduce you to the simulations we perform in the paper, which are replicable with a second notebook (``simulations.ipynb``)."
   ]
  },
  {
   "cell_type": "code",
   "execution_count": 1,
   "metadata": {},
   "outputs": [],
   "source": [
    "import numpy as np\n",
    "import scipy as sp\n",
    "import pandas as pd \n",
    "pd.options.mode.chained_assignment = None\n",
    "pd.set_option(\"display.max_rows\", 120)\n",
    "pd.set_option(\"display.max_columns\", 120)\n",
    "\n",
    "%load_ext autoreload\n",
    "%autoreload 2"
   ]
  },
  {
   "cell_type": "markdown",
   "metadata": {},
   "source": [
    "## Problem Description\n",
    "In this section we replicate the allocation example provided in the paper. The problem we want to tackle is to allocate a flow of $N$ refugees to $M$ localities. Refugees arrive sequentially, and need to be processed (and assigned) as they arrive. \n",
    "\n",
    "As shown by Bansak et al. (2018) and Trapp et al. (2018), individual refugees can have different probabilities of integrating in different localities. We coarsen these probabilities into a binary indicator. That is, every refugee can be either *acceptable* or *non-acceptable* for a given locality. We indicate acceptability in the refugee flows by a N$\\times$M matrix, where each row represents a refugee and each column a locality. This matrix will be populated by a binary variable (0/1) indicating acceptability, and denoting whether a locality-asylum seeker match is a good one or not. We call this matrix **scoring matrix**, or ``scores``.\n",
    "\n",
    "Localities might be subject to capacity constraints, or might be of different sizes and thus subject to a quotas system. The algorithm can accomodate these constraints trough a 1$\\times$M **quotas vector**, or ``quotas``. This vector is an array of integers, denoting the maximum number of refugees that can be assigned to each locality $m$.\n",
    "\n",
    "\n",
    "## Sequential assignment (benchmark)\n",
    "Throughout the paper we benchmark the performance of our assignment mechanism with that of a naive sequential assignment rule. Sequrntial assignment rules typically outperforms truly random assignments as in the absence of quotas they guarantee that the number of asylum seekers assigned to each locality differs by at most one.\n",
    "\n",
    "To familiarize with scoring and assignment matrixes, we begin by providing an example of sequential assignment, with and without quotas. We define the **scoring matrix** as the transpose of Table 1 of the paper. This matrix lists asylum seekers $i\\in{1,\\ldots,N}$ by row, and localities by column. A locality-asylum seeker match $(i,j)$ is considered acceptable iff element $(i,j)$ of the coring matrix is equal to 1. So the first two seekers are unacceptable in all three localities, seekers three and four are acceptable in all localities, and seeker 8 is acceptable only in localities 2 and 3.\n",
    "\n",
    "We can optionally define a quotas array denoting the maximum capacity of each locality. Here, locality 2 is the largest and can accomodate at most 6 refugees. The sum of capacities should be greater than or equal to the number of asylum seekers in the flow $N$."
   ]
  },
  {
   "cell_type": "code",
   "execution_count": 6,
   "metadata": {},
   "outputs": [
    {
     "name": "stdout",
     "output_type": "stream",
     "text": [
      "Sequential assigment without quotas\n",
      " [[1 0 0]\n",
      " [0 1 0]\n",
      " [0 0 1]\n",
      " [1 0 0]\n",
      " [0 1 0]\n",
      " [0 0 1]\n",
      " [1 0 0]\n",
      " [0 1 0]\n",
      " [0 0 1]\n",
      " [1 0 0]]\n",
      "Sequential assigment with quotas\n",
      " [[1 0 0]\n",
      " [0 1 0]\n",
      " [0 0 1]\n",
      " [1 0 0]\n",
      " [0 1 0]\n",
      " [0 0 1]\n",
      " [0 1 0]\n",
      " [0 0 1]\n",
      " [0 1 0]\n",
      " [0 1 0]]\n"
     ]
    }
   ],
   "source": [
    "from dynamic_refugee_matching.assignment import assign_seq, assign_random\n",
    "# Input scoring matrix\n",
    "scores_example = np.array(  [[0, 0, 0],\n",
    "                             [0, 0, 0],\n",
    "                             [1, 1, 1],\n",
    "                             [1, 1, 1],\n",
    "                             [0, 0, 0],\n",
    "                             [0, 0, 0],\n",
    "                             [1, 1, 0],\n",
    "                             [0, 1, 1],\n",
    "                             [0, 0, 0],\n",
    "                             [1, 1, 1]])\n",
    "\n",
    "quotas = np.array([2,6,3])\n",
    "\n",
    "## Assign asylum seekers sequentially ##\n",
    "seq = assign_seq(scores_example)\n",
    "seq_quotas = assign_seq(scores_example, vector_quotas=quotas)\n",
    "\n",
    "## Print assignments ##\n",
    "print(\"Sequential assigment without quotas\\n\", seq.assignment)\n",
    "print(\"Sequential assigment with quotas\\n\", seq_quotas.assignment)"
   ]
  },
  {
   "cell_type": "markdown",
   "metadata": {},
   "source": [
    "The assigment matrix is of the same shape of the scoring matrix, $N\\times M$. Each row sums to one, and cells (i,j) such that ``assignment[i,j]=1`` denote assignment of asylum seeker $i$ to locality $j$. The assignment rule here is easy to grasp. The algorithm assigns asylum seekers sequentially, starting from locality 1, until all capacities are filled. In fact, this algorithm does not take the contents of the scoring matrix under consideration at all (we only need to input it to measure $N$ and $M$). \n",
    "\n",
    "Note that in this particular example the assignment chosen by the naive sequential algorithm is nonetheless efficient, as all acceptable asylum seekers are assigned to a municipality that finds them acceptable. In other words, the sum of all successfully matched asylum seekers is equal to the number of demanded and over-demanded asylum seekers"
   ]
  },
  {
   "cell_type": "code",
   "execution_count": 4,
   "metadata": {},
   "outputs": [
    {
     "name": "stdout",
     "output_type": "stream",
     "text": [
      "Sum of demanded and over-demanded asylum seekers : 5 \n",
      "Sum of well-matched asylum seekers               : 5\n"
     ]
    }
   ],
   "source": [
    "from dynamic_refugee_matching.evaluate import evaluate_efficiency_case\n",
    "evaluate_efficiency_case(scores_example, seq)"
   ]
  },
  {
   "cell_type": "markdown",
   "metadata": {},
   "source": [
    "## Mechanism with rotation (AEM)\n",
    "\n",
    "We show here how our proposed mechanism would assign asylum seekers characterized by matrix ``scores_example``. This part of the notebook replicates Table 2 of the paper. Furthermore, we show how the mechanism would assign refugee in the presence of (binding) capacity constraints."
   ]
  },
  {
   "cell_type": "code",
   "execution_count": 5,
   "metadata": {},
   "outputs": [
    {
     "name": "stdout",
     "output_type": "stream",
     "text": [
      "AEM assigment without quotas\n",
      " [[1 0 0]\n",
      " [0 1 0]\n",
      " [1 0 0]\n",
      " [0 1 0]\n",
      " [0 0 1]\n",
      " [1 0 0]\n",
      " [1 0 0]\n",
      " [0 0 1]\n",
      " [0 1 0]\n",
      " [0 1 0]] \n",
      "\n",
      "AEM assigment with quotas\n",
      " [[1 0 0]\n",
      " [0 1 0]\n",
      " [1 0 0]\n",
      " [0 1 0]\n",
      " [0 0 1]\n",
      " [0 1 0]\n",
      " [0 1 0]\n",
      " [0 0 1]\n",
      " [0 0 1]\n",
      " [0 1 0]] \n",
      "\n",
      "Sum of demanded and over-demanded asylum seekers : 5 \n",
      "Sum of well-matched asylum seekers               : 5\n"
     ]
    }
   ],
   "source": [
    "from dynamic_refugee_matching.assignment import assign\n",
    "## Assign asylum seekers according to our rotation mechanism ##\n",
    "aem = assign(scores_example)\n",
    "aem_quotas = assign(scores_example, vector_quotas=quotas)\n",
    "\n",
    "## Print assignments ##\n",
    "print(\"AEM assigment without quotas\\n\", aem.assignment, \"\\n\")\n",
    "print(\"AEM assigment with quotas\\n\", aem_quotas.assignment, \"\\n\")\n",
    "\n",
    "## Evaluate assignment ##\n",
    "evaluate_efficiency_case(scores_example, aem)"
   ]
  },
  {
   "cell_type": "markdown",
   "metadata": {},
   "source": [
    "Again (this time by construction), the final allocation is efficient. However, ``aem`` also guarantees fairness. \n",
    "\n",
    "In the paper we define fairness by the concept of envy. Theorem 1 in the paper shows that our mechanism satisfies envy bounded by a single asylum seeker. No envy means that no aggregation entity (locality), *while being in the market* (localities can exit the market with quotas), would like to exchange its assigned asylum seekers with those of **any other locality in the market**. With indivisible bundles, envy-free matching in general des not exist. However, our algorithm guarantees envy bounded by one: Envy between localities would disappear if they could obtain just one refugee from another bundle.\n",
    "\n",
    "Note that as municipalities have heterogenous preferences envy is not symmetric. That is, in principle two localities can simultaneously envy each other, or not envy each other at all. Unlike standard approaches such as naive sequential assigments, our algorithm harnesses these heterogeneities to ensure fair matchings.\n",
    "\n",
    "We characterize envy after $k$ arrivals with a $M\\times M$ **envy matrix** $E_{k}$. Each pair $i,j$ indicates by how many asylum seekers locality $i$ (row) envies locality $j$ (column). The diagonal is naturally equal to zero. As Theorem 1 proves, in the assignment produced by our algorithm, no locality envies another by more than 1 asylum seekers (in this specific example, no locality envies any other by any number of asylum seekers)."
   ]
  },
  {
   "cell_type": "code",
   "execution_count": 5,
   "metadata": {},
   "outputs": [
    {
     "name": "stdout",
     "output_type": "stream",
     "text": [
      "Envy matrix after AEM assignment\n",
      " [[ 0  0 -2]\n",
      " [ 0  0  0]\n",
      " [-2  0  0]]\n"
     ]
    }
   ],
   "source": [
    "from dynamic_refugee_matching.evaluate import calc_envy\n",
    "print('Envy matrix after AEM assignment\\n', calc_envy(aem.assignment, scores_example))"
   ]
  },
  {
   "cell_type": "markdown",
   "metadata": {},
   "source": [
    "However, the naive sequential assignment does not achieve a fair allocation. Specifically, by chance, the second locality envies the first by 3 asylum seekers. In other words, the second locality would need three more matches not to envy the first. Clearly, maintaining pareto-efficiency, AEM selects a superior allocation."
   ]
  },
  {
   "cell_type": "code",
   "execution_count": 6,
   "metadata": {},
   "outputs": [
    {
     "name": "stdout",
     "output_type": "stream",
     "text": [
      "Envy matrix after sequential assignment\n",
      " [[ 0 -5 -3]\n",
      " [ 3  0  0]\n",
      " [ 1  0  0]]\n"
     ]
    }
   ],
   "source": [
    "print('Envy matrix after sequential assignment\\n', calc_envy(seq.assignment, scores_example))"
   ]
  },
  {
   "cell_type": "markdown",
   "metadata": {},
   "source": [
    "The performance of the the naive sequential assignment worsens with time, as the number of asylum seekers grows. To show this deterioration of performance, we duplicate the original asylum seeker flow by ten times, and compare the performance of our mechanism with those of a sequential assigment rule and random allocation.\n",
    "\n",
    "With ten times more refugees, both the sequential and random allocation mechanisms are not pareto-efficient, as they result in fewer than the potential 50 appropriate matches in the simulated asylum seeker flows. Moreover, while no locality envies another after allocating 100 asylum seekers under the allocation selected by ``aem``, two out of three localities envy another with an alternative uninformed assignment."
   ]
  },
  {
   "cell_type": "code",
   "execution_count": 7,
   "metadata": {},
   "outputs": [
    {
     "data": {
      "text/html": [
       "<div>\n",
       "<style scoped>\n",
       "    .dataframe tbody tr th:only-of-type {\n",
       "        vertical-align: middle;\n",
       "    }\n",
       "\n",
       "    .dataframe tbody tr th {\n",
       "        vertical-align: top;\n",
       "    }\n",
       "\n",
       "    .dataframe thead th {\n",
       "        text-align: right;\n",
       "    }\n",
       "</style>\n",
       "<table border=\"1\" class=\"dataframe\">\n",
       "  <thead>\n",
       "    <tr style=\"text-align: right;\">\n",
       "      <th></th>\n",
       "      <th>AEM</th>\n",
       "      <th>Sequential</th>\n",
       "      <th>Random</th>\n",
       "      <th>AEM (10x)</th>\n",
       "      <th>Sequential (10x)</th>\n",
       "      <th>Random (10x)</th>\n",
       "    </tr>\n",
       "  </thead>\n",
       "  <tbody>\n",
       "    <tr>\n",
       "      <th>Sum of demanded and over-demanded asylum seekers</th>\n",
       "      <td>5</td>\n",
       "      <td>5</td>\n",
       "      <td>5</td>\n",
       "      <td>50</td>\n",
       "      <td>50</td>\n",
       "      <td>50</td>\n",
       "    </tr>\n",
       "    <tr>\n",
       "      <th>Sum of well-matched asylum seekers</th>\n",
       "      <td>5</td>\n",
       "      <td>5</td>\n",
       "      <td>5</td>\n",
       "      <td>50</td>\n",
       "      <td>44</td>\n",
       "      <td>42</td>\n",
       "    </tr>\n",
       "    <tr>\n",
       "      <th># localities envying another by more than 1 AS</th>\n",
       "      <td>0</td>\n",
       "      <td>2</td>\n",
       "      <td>2</td>\n",
       "      <td>0</td>\n",
       "      <td>2</td>\n",
       "      <td>2</td>\n",
       "    </tr>\n",
       "    <tr>\n",
       "      <th>Maximum envy</th>\n",
       "      <td>0</td>\n",
       "      <td>3</td>\n",
       "      <td>1</td>\n",
       "      <td>0</td>\n",
       "      <td>3</td>\n",
       "      <td>12</td>\n",
       "    </tr>\n",
       "  </tbody>\n",
       "</table>\n",
       "</div>"
      ],
      "text/plain": [
       "                                                  AEM  Sequential  Random  \\\n",
       "Sum of demanded and over-demanded asylum seekers    5           5       5   \n",
       "Sum of well-matched asylum seekers                  5           5       5   \n",
       "# localities envying another by more than 1 AS      0           2       2   \n",
       "Maximum envy                                        0           3       1   \n",
       "\n",
       "                                                  AEM (10x)  Sequential (10x)  \\\n",
       "Sum of demanded and over-demanded asylum seekers         50                50   \n",
       "Sum of well-matched asylum seekers                       50                44   \n",
       "# localities envying another by more than 1 AS            0                 2   \n",
       "Maximum envy                                              0                 3   \n",
       "\n",
       "                                                  Random (10x)  \n",
       "Sum of demanded and over-demanded asylum seekers            50  \n",
       "Sum of well-matched asylum seekers                          42  \n",
       "# localities envying another by more than 1 AS               2  \n",
       "Maximum envy                                                12  "
      ]
     },
     "execution_count": 7,
     "metadata": {},
     "output_type": "execute_result"
    }
   ],
   "source": [
    "from dynamic_refugee_matching.evaluate import characterize_assignments\n",
    "# Set seed numpy\n",
    "np.random.seed(1)\n",
    "# Replicate original arrival flow x10\n",
    "for i in range(10):\n",
    "    if i == 0:\n",
    "        scores_large = scores_example\n",
    "    else:\n",
    "        scores_large = np.vstack((scores_large,scores_example))\n",
    "\n",
    "# Allocation quality summary\n",
    "assignments = {\n",
    "    'AEM':               assign(scores_example),\n",
    "    'Sequential':        assign_seq(scores_example),\n",
    "    'Random':            assign_random(scores_example),\n",
    "    'AEM (10x)':         assign(scores_large),\n",
    "    'Sequential (10x)':  assign_seq(scores_large),\n",
    "    'Random (10x)':      assign_random(scores_large),\n",
    "}\n",
    "\n",
    "characterize_assignments(assignments)"
   ]
  },
  {
   "cell_type": "markdown",
   "metadata": {},
   "source": [
    "## Dynamic implementation\n",
    "\n",
    "``aem`` processes every arriving asylum seeker without extracting any information of future arrivals, but only using the envy from past allocations to guide its path. However, for simplicity so far we have used ordered flows of refugees, where all information on future arrivals in a flow is in principle available. \n",
    "\n",
    "We show here how ``aem`` can (and is meant to) be implemented at every single refugee arrival.\n",
    "\n",
    "In practice, the algorithm only requires envy and past rankings at each assignment. With potentially binding quotas, ``vector_quotas`` also needs to be transferred across algorithm calls. All this necessary information, which we need to transfer across individual allocations, is contained in the object exported by ``aem``. We can thus implement ``aem`` dynamically and trasfer the necessary information across iterations (sylum seekers $k \\in \\{1,\\ldots,N\\}$ as follows:"
   ]
  },
  {
   "cell_type": "code",
   "execution_count": 8,
   "metadata": {},
   "outputs": [
    {
     "name": "stdout",
     "output_type": "stream",
     "text": [
      "Assignment with dynamic implementation:\n",
      " [[1 0 0]\n",
      " [0 1 0]\n",
      " [1 0 0]\n",
      " [0 1 0]\n",
      " [0 0 1]\n",
      " [1 0 0]\n",
      " [1 0 0]\n",
      " [0 0 1]\n",
      " [0 1 0]\n",
      " [0 1 0]]\n",
      "Assignment if all flow processed at once:  \n",
      " [[1 0 0]\n",
      " [0 1 0]\n",
      " [1 0 0]\n",
      " [0 1 0]\n",
      " [0 0 1]\n",
      " [1 0 0]\n",
      " [1 0 0]\n",
      " [0 0 1]\n",
      " [0 1 0]\n",
      " [0 1 0]]\n"
     ]
    }
   ],
   "source": [
    "from dynamic_refugee_matching.assignment import assign\n",
    "\n",
    "# Dynamic implementation (running aem at every refugee arrival)\n",
    "for k in range(scores_example.shape[0]):\n",
    "    if k==0:\n",
    "        aem_dy = assign(scores_example[:][k][np.newaxis], vector_quotas=np.array([10,10,10]))\n",
    "        total_assignment = aem_dy.assignment\n",
    "    else:\n",
    "        aem_dy = assign(scores_example[:][k][np.newaxis], \n",
    "                        pi_init = aem_dy.pi, \n",
    "                        sigma_init = aem_dy.sigma, \n",
    "                        envy_init = aem_dy.envy_final,\n",
    "                        vector_quotas = aem_dy.end_quotas\n",
    "                       )\n",
    "        total_assignment = np.vstack((total_assignment,aem_dy.assignment))\n",
    "    \n",
    "# Cross-check that the allocation is the same\n",
    "print(\"Assignment with dynamic implementation:\\n\", total_assignment)\n",
    "print(\"Assignment if all flow processed at once:  \\n\", total_assignment)\n"
   ]
  },
  {
   "cell_type": "markdown",
   "metadata": {},
   "source": [
    "## References\n",
    "\n",
    "Andersson, T., L. Ehlers, and A. Martinello (2018). Dynamic Refugee Matching. Lund University Department of Economics Working Paper 2018: 7\n",
    "\n",
    "Bansak, K., J. Ferwerda, J. Hainmueller, A. Dillon, D. Hangartner, and D. Lawrence (2018). Improving refugee integration through data-driven algorithmic assignment. Science 359, 325-329.\n",
    "\n",
    "Trapp, Andrew C., Alexander Teytelboym, Alessandro Martinello, Tommy Andersson, and Narges Ahani. \"Placement Optimization in Refugee Resettlement.\" Lund University Department of Economics Working Paper 2018: 23 (2018)."
   ]
  }
 ],
 "metadata": {
  "kernelspec": {
   "display_name": "Python 3",
   "language": "python",
   "name": "python3"
  },
  "language_info": {
   "codemirror_mode": {
    "name": "ipython",
    "version": 3
   },
   "file_extension": ".py",
   "mimetype": "text/x-python",
   "name": "python",
   "nbconvert_exporter": "python",
   "pygments_lexer": "ipython3",
   "version": "3.7.0"
  }
 },
 "nbformat": 4,
 "nbformat_minor": 2
}
