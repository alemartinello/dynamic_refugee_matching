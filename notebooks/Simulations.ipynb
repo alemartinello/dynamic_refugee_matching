{
 "cells": [
  {
   "cell_type": "markdown",
   "metadata": {},
   "source": [
    "# Dynamic Refugee Matching\n",
    "\n",
    "This notebook demonstrates the fuctioning of the mechanism introduced by Andersson, Ehlers and Martinello (2018), and performs the simulations contained in the paper. All the necessary documentation, requirements and dependecies should be documented in the package. If you have any comment, spot any bug or some documentation is missing, please let us know.\n",
    "\n",
    "This notebook is divided in two parts. The first part of the notebook replicates and illustrates the allocation example we provide in the paper. This first part is meant to convey the intuition behind our allocation mechanism, and introduce you to the simulations we perform later.\n",
    "\n",
    "The second part of the notebook simulates random refugee flows, and assesses the sensitivity of the allocation mechanism to\n",
    "- Measurement error in the locality-specific refugee partitions\n",
    "- Splitting refugee quotas in smaller subperiods\n",
    "\n",
    "Finally, we provide some simulation evidence supporting Conjecture 1 in the paper: That (add theorem)"
   ]
  },
  {
   "cell_type": "code",
   "execution_count": 1,
   "metadata": {},
   "outputs": [],
   "source": [
    "import numpy as np\n",
    "import scipy as sp\n",
    "import pandas as pd \n",
    "pd.options.mode.chained_assignment = None\n",
    "pd.set_option(\"display.max_rows\", 120)\n",
    "pd.set_option(\"display.max_columns\", 120)\n",
    "\n",
    "\n",
    "import datetime\n",
    "\n",
    "import statsmodels.api as sm\n",
    "from statsmodels.formula.api import ols\n",
    "\n",
    "%load_ext autoreload\n",
    "%autoreload 2\n",
    "\n",
    "# Graphics\n",
    "import matplotlib as mpl\n",
    "import matplotlib.pyplot as plt\n",
    "%matplotlib inline\n",
    "%config InlineBackend.figure_format = 'retina'\n",
    "\n",
    "import matplotlib.cm as cm\n",
    "from IPython.display import display\n",
    "\n",
    "import seaborn as sns\n",
    "#sns.set_style(\"ticks\", {'axes.grid': True})\n",
    "sns.set_context(\"poster\")\n",
    "sns.set(rc={'figure.figsize': (16, 9.)})\n",
    "sns.set_style(\"whitegrid\")"
   ]
  },
  {
   "cell_type": "markdown",
   "metadata": {},
   "source": [
    "## 1. The Allocation Mechanism: An Example\n",
    "\n",
    "### 1.1. Problem Description\n",
    "In this section we replicate the allocation example provided in the paper. The problem we want to tackle is to allocate a flow of $N$ refugees to $M$ localities. Refugees arrive sequentially, and need to be processed (and assigned) as they arrive. \n",
    "\n",
    "As shown by Bansak et al. (2018) and Trapp et al. (2018), individual refugees can have different probabilities of integrating in different localities. We coarsen these probabilities into a binary indicator. That is, every refugee can be either *acceptable* or *non-acceptable* for a given locality. We indicate acceptability in the refugee flows by a N$\\times$M matrix, where each row represents a refugee and each column a locality. This matrix will be populated by a binary variable (0/1) indicating acceptability. We call this matrix **scoring matrix**, or ``scores``.\n",
    "\n",
    "Localities might be subject to capacity constraints, or might be of different sizes and thus subject to a quotas system. The algorithm can accomodate these constraints trough a 1$\\times$M **quotas vector**, or ``quotas``. This vector is a series of integers, denoting the maximum number of refugees that can be assigned to each locality $m$.\n",
    "\n",
    "We define the scoring matrix as in the example, and call the assignment function"
   ]
  },
  {
   "cell_type": "code",
   "execution_count": 2,
   "metadata": {},
   "outputs": [],
   "source": [
    "# Input scoring matrix\n",
    "scores = np.array([[0, 0, 0],\n",
    "         [0, 0, 0],\n",
    "         [1, 1, 1],\n",
    "         [1, 1, 1],\n",
    "         [0, 0, 0],\n",
    "         [0, 0, 0],\n",
    "         [1, 1, 0],\n",
    "         [0, 1, 1],\n",
    "         [0, 0, 0],\n",
    "         [1, 1, 1]])\n",
    "\n"
   ]
  },
  {
   "cell_type": "markdown",
   "metadata": {},
   "source": [
    "Note that empirically this division creates three types of refugees:\n",
    "- **Refugees $\\underline{D}$:** These refugees are *non-demanded*, meaning that no locality finds them acceptable\n",
    "- **Refugees $\\overline{D}$:** These refugees are a special case of *over-demanded* refugees, such that **all** localities find them acceptable\n",
    "- **Refugees $D$:** These refugees can be either *demanded* or *over-demanded*. At least one locality finds them acceptable, and at least one locality finds them *non-acceptable*\n",
    "\n",
    "## References\n",
    "\n",
    "Andersson \n",
    "\n",
    "Bansak et\n",
    "\n",
    "Trapp"
   ]
  }
 ],
 "metadata": {
  "kernelspec": {
   "display_name": "Python 3",
   "language": "python",
   "name": "python3"
  },
  "language_info": {
   "codemirror_mode": {
    "name": "ipython",
    "version": 3
   },
   "file_extension": ".py",
   "mimetype": "text/x-python",
   "name": "python",
   "nbconvert_exporter": "python",
   "pygments_lexer": "ipython3",
   "version": "3.7.1"
  }
 },
 "nbformat": 4,
 "nbformat_minor": 2
}
